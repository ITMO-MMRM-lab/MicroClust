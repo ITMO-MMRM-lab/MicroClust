{
 "cells": [
  {
   "cell_type": "code",
   "execution_count": null,
   "metadata": {},
   "outputs": [],
   "source": [
    "import os\n",
    "import numpy as np\n",
    "import pandas as pd"
   ]
  },
  {
   "cell_type": "code",
   "execution_count": 9,
   "metadata": {},
   "outputs": [],
   "source": [
    "import Algorithms.ALG as ALG                   # importing algorithms\n",
    "import Metrics.GROUND_METRICS as MC_1          # importing lib with Ground metrics - Only for Experimental benchmarking\n",
    "import Metrics.STANDALONE_METRICS as MC_2      # importing lib with standalone metrics\n",
    "\n",
    "import Worker.INITIAL_PLOTTER as IPLOT         # Initial Sample plotter\n",
    "import Worker.FINAL_PLOTTER as FPLOT           # Cluster Sample & result Plotter \n",
    "\n",
    "import Worker.DATA_READER as DR                # Data Reader i.e. Path of the scan data\n",
    "\n",
    "import Worker.MODS as DM                       # Data Operations to be performed "
   ]
  },
  {
   "cell_type": "markdown",
   "metadata": {},
   "source": [
    "#### Reading the  AFM Scan  Data"
   ]
  },
  {
   "cell_type": "code",
   "execution_count": 8,
   "metadata": {},
   "outputs": [],
   "source": [
    "data, original = DR.reader(\"W:\\\\Data PYTHON\\\\SET_1\\\\COMBINED\") # The path of the AFM scan data is entered here\n",
    "\n",
    "# Data = reshaped data for clustering\n",
    "# original = AFM scan data in image matrixformat "
   ]
  },
  {
   "cell_type": "markdown",
   "metadata": {},
   "source": [
    "#### Data operations "
   ]
  },
  {
   "cell_type": "code",
   "execution_count": 11,
   "metadata": {},
   "outputs": [],
   "source": [
    "# Performs 1D & 2D Fourier Transform on the Data\n",
    "\n",
    "\n",
    "# One Dimensional Fourier Transform (INPUT = Original Part from reader())\n",
    "# Output = Two elements (Columns) (Rows), We are using ROWS for clustering \n",
    "\n",
    "ONE_Data = DM.Process_1D_F(original) #ROW WISE\n",
    "\n",
    "# Two Dimensional Fourier Transform (INPUT = Original Part from reader())\n",
    "# Output = One elements Transformed Data of AFM scan in 2D Fourier format\n",
    "\n",
    "TWO_Data = DM.Process_2D_F(original)"
   ]
  },
  {
   "cell_type": "markdown",
   "metadata": {},
   "source": [
    "------------"
   ]
  },
  {
   "cell_type": "markdown",
   "metadata": {},
   "source": [
    "#### Performing Clustering using the various algorithms for three types of data:\n",
    "\n",
    "        Data 1. RAW AFM data\n",
    "        Data 2. ONE Dimensional Fourier Transformed Data\n",
    "        Data 3. TWO Dimensional Fourier Transfomred Data\n",
    "\n",
    "At this stage of the tool, the aim was to benchmark the algorithms, hence, the algorithms was split into two main groups:\n",
    "\n",
    "        Group 1. Automated Clustering (These are algorithms that automatically perform clustering via internal calculations)\n",
    "        Group 2. Parameteric Clustering (These are algorithms that require additional tuning to obtain proper results)\n",
    "\n"
   ]
  },
  {
   "cell_type": "markdown",
   "metadata": {},
   "source": [
    "#### The Naming of the Variables are \n",
    "\n",
    "T_ = Type of Data (RAW, ONE D, TWO D) [1,2,3]\n",
    "A_ = Algorithm Number [1,13]\n",
    "G_ = Groups of Algorithms [1,2]"
   ]
  },
  {
   "cell_type": "markdown",
   "metadata": {},
   "source": [
    "-----------"
   ]
  },
  {
   "cell_type": "markdown",
   "metadata": {},
   "source": [
    "#### Data 1: RAW AFM Data"
   ]
  },
  {
   "cell_type": "markdown",
   "metadata": {},
   "source": [
    "##### Group 1"
   ]
  },
  {
   "cell_type": "code",
   "execution_count": null,
   "metadata": {},
   "outputs": [],
   "source": [
    "T1_A1_G1 = ALG.K_MEANS(data, 3) \n",
    "T1_A2_G1 = ALG.K_MEANS_PLUS(data, 3)\n",
    "T1_A3_G1 = ALG.K_MEANS_BISECT(data, 3)\n",
    "T1_A7_G1 = ALG.HIERARCHY(data, 3,1)\n",
    "T1_A8_G1 = ALG.FUZZY_C(data, 3)\n",
    "T1_A11_G1 = ALG.BIRCH(data, 3)\n",
    "T1_A13_G1 = ALG.SPECTRAL(data, 3)"
   ]
  },
  {
   "cell_type": "markdown",
   "metadata": {},
   "source": [
    "#### Group 2"
   ]
  },
  {
   "cell_type": "code",
   "execution_count": null,
   "metadata": {},
   "outputs": [],
   "source": [
    "T1_A4_G2 = ALG.DBSCAN_AUTO(data, 2,2)\n",
    "T1_A9_G2 = ALG.MEAN_SHIFT(data,0.00013)\n",
    "T1_A10_G2 = ALG.AFFINITY(data,0.999)\n",
    "T1_A5_G2 = ALG.DBSCAN_MANUAL(data,0.00015,3)      #DBSCAN MANUAL\n",
    "T1_A6_G2 = ALG.HDBSCAN_MANUAL(data,6,3,475) #HDBSCAN_MANUAL\n",
    "T1_A12_G2 = ALG.OPTICS_AUTO(data, 3)        #OPTICS AUTO"
   ]
  },
  {
   "cell_type": "markdown",
   "metadata": {},
   "source": [
    "---------------"
   ]
  },
  {
   "cell_type": "markdown",
   "metadata": {},
   "source": [
    "#### Data 2: ONE Dimensional Fourier Transform"
   ]
  },
  {
   "cell_type": "markdown",
   "metadata": {},
   "source": [
    "#### Group 1"
   ]
  },
  {
   "cell_type": "code",
   "execution_count": null,
   "metadata": {},
   "outputs": [],
   "source": []
  },
  {
   "cell_type": "markdown",
   "metadata": {},
   "source": [
    "#### Group 2"
   ]
  },
  {
   "cell_type": "code",
   "execution_count": null,
   "metadata": {},
   "outputs": [],
   "source": []
  },
  {
   "cell_type": "markdown",
   "metadata": {},
   "source": [
    "----------"
   ]
  },
  {
   "cell_type": "markdown",
   "metadata": {},
   "source": [
    "#### Data 3: TWO Dimensional Fourier Transform"
   ]
  },
  {
   "cell_type": "markdown",
   "metadata": {},
   "source": [
    "#### Group 1"
   ]
  },
  {
   "cell_type": "code",
   "execution_count": null,
   "metadata": {},
   "outputs": [],
   "source": []
  },
  {
   "cell_type": "markdown",
   "metadata": {},
   "source": [
    "#### Group 2"
   ]
  },
  {
   "cell_type": "code",
   "execution_count": null,
   "metadata": {},
   "outputs": [],
   "source": []
  },
  {
   "cell_type": "markdown",
   "metadata": {},
   "source": [
    "-----------"
   ]
  },
  {
   "cell_type": "markdown",
   "metadata": {},
   "source": []
  }
 ],
 "metadata": {
  "kernelspec": {
   "display_name": "base",
   "language": "python",
   "name": "python3"
  },
  "language_info": {
   "codemirror_mode": {
    "name": "ipython",
    "version": 3
   },
   "file_extension": ".py",
   "mimetype": "text/x-python",
   "name": "python",
   "nbconvert_exporter": "python",
   "pygments_lexer": "ipython3",
   "version": "3.9.7"
  },
  "orig_nbformat": 4
 },
 "nbformat": 4,
 "nbformat_minor": 2
}
